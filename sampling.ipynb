{
 "cells": [
  {
   "cell_type": "code",
   "execution_count": null,
   "id": "014b9535-b11c-4a52-8012-2e411c1048b6",
   "metadata": {},
   "outputs": [],
   "source": [
    "import pandas as pd\n",
    "import matplotlib.pyplot as plt\n",
    "import numpy as np\n",
    "from datetime import datetime\n",
    "import random"
   ]
  },
  {
   "cell_type": "code",
   "execution_count": null,
   "id": "368cade5-b754-4698-bd02-af6e8035adb6",
   "metadata": {},
   "outputs": [],
   "source": [
    "# Filepath to algorithm outputs\n",
    "ind_time_filepath = \"../output_data_au/Simulation_Results_2023-08-15T100831.821222/individual_time_point_data.csv\"\n",
    "\n",
    "# Filepath to raw data\n",
    "raw_data = \"../PROM-RulesBasedAlgorithmData_R2.0.xlsx\""
   ]
  },
  {
   "cell_type": "code",
   "execution_count": null,
   "id": "bf7fd3bb-9c64-4282-b93f-4a619b620aa8",
   "metadata": {},
   "outputs": [],
   "source": [
    "# Mapping domain codes to more readable names\n",
    "domain_code_to_name = {\"ui_domain\" : \"Urinary Incontinence Domain\",\n",
    "                      \"sf_domain\" : \"Sexual Function Domain\",\n",
    "                       \"uio_domain\" : \"Urinary Obstruction Domain\",\n",
    "                       \"bf_domain\" : \"Bowel Function Domain\",\n",
    "                       \"hf_domain\" : \"Hormonal Function Domain\",\n",
    "                       \"q6d\" : \"Blood Stools Question\"\n",
    "                      }"
   ]
  },
  {
   "cell_type": "code",
   "execution_count": null,
   "id": "b2b07139-9eb9-43bc-9e7f-be8d6f2b4cdd",
   "metadata": {},
   "outputs": [],
   "source": [
    "# Read all files from path into dataframes\n",
    "\n",
    "unfiltered_ind_time_df = pd.read_csv(ind_time_filepath)\n",
    "print(len(unfiltered_ind_time_df))\n",
    "print(unfiltered_ind_time_df.head())\n",
    "\n",
    "unfiltered_raw_data_df = pd.read_excel(raw_data, sheet_name=\"PROM-RulesBasedAlgorithmData_R2\")\n",
    "print(len(unfiltered_raw_data_df))\n",
    "print(unfiltered_raw_data_df.head())"
   ]
  },
  {
   "cell_type": "markdown",
   "id": "3d271718-549b-457d-b897-a08e7371b314",
   "metadata": {
    "jp-MarkdownHeadingCollapsed": true
   },
   "source": [
    "# Cleaning\n",
    "\n",
    "Remove participants with missing age data or null values for questionnaire responses"
   ]
  },
  {
   "cell_type": "code",
   "execution_count": null,
   "id": "bfe0bafd-0ed3-4ac8-bfbb-4e795490b3ac",
   "metadata": {},
   "outputs": [],
   "source": [
    "# Remove participants with missing age data\n",
    "participant_df = pd.read_excel(raw_data, sheet_name=\"Person\")\n",
    "participant_df = participant_df[(participant_df['AgeAtDx'].isin(list(range(0, 100))))]\n",
    "\n",
    "# Format as [(participant_id, report_id)]\n",
    "participant_df = list(participant_df['CapstudiesID'])\n",
    "report_id_data = unfiltered_raw_data_df.groupby('CapstudiesID')['PROAnswerSetID'].apply(list).to_dict()\n",
    "keep_ids = [(participant_id, report_id) for participant_id, lo_report_id in report_id_data.items() for report_id in lo_report_id if participant_id in participant_df]\n",
    "\n",
    "# Filter raw data\n",
    "filtered_raw_data_df1 = unfiltered_raw_data_df[(unfiltered_raw_data_df[['CapstudiesID', 'PROAnswerSetID']].apply(tuple, axis=1).isin(keep_ids))]\n",
    "\n",
    "# Filter alg output data\n",
    "filtered_ind_time_df1 = unfiltered_ind_time_df[(unfiltered_ind_time_df['Patient Identifier'].isin([f\"{id[0]}_{id[1]}.json\" for id in keep_ids]))]\n",
    "\n",
    "participant_count0 = len(set(unfiltered_raw_data_df['CapstudiesID']))\n",
    "participant_count1 = len(set(filtered_raw_data_df1['CapstudiesID']))\n",
    "print(f\"{participant_count0} -> {participant_count1} participants\")\n",
    "print(f\"{len(unfiltered_raw_data_df)} -> {len(filtered_raw_data_df1)} alerts\")"
   ]
  },
  {
   "cell_type": "code",
   "execution_count": null,
   "id": "fad8b574-e2a2-4b0a-9668-3fee1b0a4a9d",
   "metadata": {},
   "outputs": [],
   "source": [
    "# Remove participants with null values for questionnaire responses\n",
    "m=filtered_ind_time_df1.isnull().sum(axis=1)\n",
    "m=m[~m.isin([0])].index.unique()\n",
    "\n",
    "report_id_data = unfiltered_raw_data_df.loc[m].groupby('CapstudiesID')['PROAnswerSetID'].apply(list).to_dict()\n",
    "keep_ids = [(participant_id, report_id) for participant_id, lo_report_id in report_id_data.items() for report_id in lo_report_id]\n",
    "\n",
    "# Filter raw data\n",
    "filtered_raw_data_df2 = filtered_raw_data_df1[(filtered_raw_data_df1[['CapstudiesID', 'PROAnswerSetID']].apply(tuple, axis=1).isin(keep_ids))]\n",
    "\n",
    "# Filter alg output data\n",
    "filtered_ind_time_df2 = filtered_ind_time_df1[(filtered_ind_time_df1['Patient Identifier'].isin([f\"{id[0]}_{id[1]}.json\" for id in keep_ids]))]\n",
    "\n",
    "participant_count2 = len(set(filtered_raw_data_df2['CapstudiesID']))\n",
    "print(f\"{participant_count1} -> {participant_count2} participants\")\n",
    "print(f\"{len(filtered_ind_time_df1)} -> {len(filtered_ind_time_df2)} alerts\")"
   ]
  },
  {
   "cell_type": "code",
   "execution_count": null,
   "id": "d50c02da-176b-4baf-ac17-5f7157ad103e",
   "metadata": {},
   "outputs": [],
   "source": [
    "# keep participants with at least 4 reports\n",
    "report_id_data = filtered_raw_data_df2.groupby('CapstudiesID')['PROAnswerSetID'].apply(list).to_dict()\n",
    "interval_data = filtered_raw_data_df2.groupby('CapstudiesID')['Interval'].apply(list).to_dict()\n",
    "\n",
    "keep_ids = [] # [(patient_id, report_id)]\n",
    "for id in report_id_data.keys():\n",
    "    if len(interval_data[id]) >= 4 and len(interval_data[id]) == len(list(set(interval_data[id]))):\n",
    "        to_keep = list(zip(report_id_data[id], interval_data[id]))\n",
    "        to_keep = sorted(to_keep, key=lambda x: x[1]) # sort by interval\n",
    "        keep_ids += [(id, x[0]) for x in to_keep[:4]] # keep first 4 reports\n",
    "\n",
    "# Filter raw data\n",
    "filtered_raw_data_df3 = filtered_raw_data_df2[(filtered_raw_data_df2[['CapstudiesID', 'PROAnswerSetID']].apply(tuple, axis=1).isin(keep_ids))]\n",
    "\n",
    "# Filter alg output data\n",
    "filtered_ind_time_df3 = filtered_ind_time_df2[(filtered_ind_time_df2['Patient Identifier'].isin([f\"{id[0]}_{id[1]}.json\" for id in keep_ids]))]\n",
    "\n",
    "participant_count3 = len(set(filtered_raw_data_df3['CapstudiesID']))\n",
    "print(f\"{participant_count2} -> {participant_count3} participants\")\n",
    "print(f\"{len(filtered_ind_time_df2)} -> {len(filtered_ind_time_df3)} alerts\")"
   ]
  },
  {
   "cell_type": "markdown",
   "id": "6cb09b30-06a4-46e0-9050-696a80e22016",
   "metadata": {
    "jp-MarkdownHeadingCollapsed": true
   },
   "source": [
    "# Breakdown After Cleaning"
   ]
  },
  {
   "cell_type": "code",
   "execution_count": null,
   "id": "673a3f48-02ba-4e36-9d9b-7763aa8a074d",
   "metadata": {},
   "outputs": [],
   "source": [
    "# Look at the frequency for the different types of alerts (normal, abnormal, clinically urgent)\n",
    "labels = [\"Normal\", \"Abnormal\", \"Clinically Urgent Alert\"]\n",
    "alert_counts = filtered_ind_time_df3['Final Alert State'].value_counts()\n",
    "values = [alert_counts[label] for label in labels]\n",
    "plt.pie(values, labels = [f\"{label} ({alert_counts[label]} alerts, {int(100*alert_counts[label]/sum(values))}%)\" for label in labels], colors=[\"green\",\"yellow\",\"red\"])\n",
    "plt.title(f\"Before Sampling Alert Types ({sum(values)} Alerts Total)\")\n",
    "plt.show()"
   ]
  },
  {
   "cell_type": "code",
   "execution_count": null,
   "id": "84c1cefc-d1ba-4f7a-bc77-4cb39ccd5d7e",
   "metadata": {},
   "outputs": [],
   "source": [
    "participant_df = pd.read_excel(raw_data, sheet_name=\"Person\")\n",
    "participant_df = participant_df[(participant_df['CapstudiesID'].isin(set([id[0] for id in keep_ids])))]\n",
    "\n",
    "age_counts = participant_df['AgeAtDx'].value_counts().to_dict()\n",
    "\n",
    "fig = plt.figure()\n",
    "ax = fig.add_axes([0,0,1,1])\n",
    "ages = age_counts.keys()\n",
    "counts = [age_counts[age] for age in ages]\n",
    "ax.bar(ages,counts)\n",
    "ax.set_title('Distribution of Ages For Participants')\n",
    "plt.show()"
   ]
  },
  {
   "cell_type": "code",
   "execution_count": null,
   "id": "fe7c9868-34f4-4e5a-94ea-faac5bbdb343",
   "metadata": {},
   "outputs": [],
   "source": [
    "age_groups = {\"40-64\": 0, \"65-69\": 0, \"70+\": 0}\n",
    "for age in age_counts.keys():\n",
    "    if age < 65:\n",
    "        age_groups[\"40-64\"] += age_counts[age]\n",
    "    elif age < 70:\n",
    "        age_groups[\"65-69\"] += age_counts[age]\n",
    "    else:\n",
    "        age_groups[\"70+\"] += age_counts[age]\n",
    "labels = sorted(age_groups.keys())\n",
    "values = [age_groups[group] for group in labels]\n",
    "labels = [f\"Age {group} ({age_groups[group]} participants, {int(100*age_groups[group]/sum(values))}%)\" for group in labels]\n",
    "plt.pie(values)\n",
    "plt.legend(labels)\n",
    "plt.title(f\"Before Sampling Age Breakdown ({sum(values)} Participants Total)\")\n",
    "plt.show()"
   ]
  },
  {
   "cell_type": "code",
   "execution_count": null,
   "id": "b6563731-fd4f-47ad-90fd-77617e2e4a50",
   "metadata": {},
   "outputs": [],
   "source": [
    "participant_df = pd.read_excel(raw_data, sheet_name=\"Person\")\n",
    "participant_df = participant_df[(participant_df['CapstudiesID'].isin(set([id[0] for id in keep_ids])))]\n",
    "\n",
    "therapy_counts = participant_df['iTreatment'].value_counts().to_dict()\n",
    "# # Not enough data for the following:\n",
    "# therapy_counts.pop(\"OTHER\")\n",
    "# therapy_counts.pop(\"EBRT - Palliative\")\n",
    "\n",
    "labels = list(therapy_counts.keys())\n",
    "values = [therapy_counts[label] for label in labels]\n",
    "labels = [f\"{tx} ({therapy_counts[tx]} participants, {int(100*therapy_counts[tx]/sum(values))}%)\" for tx in labels]\n",
    "plt.pie(values)\n",
    "plt.legend(labels)\n",
    "plt.title(f\"Before Sampling Therapy Breakdown ({sum(values)} Participants Total)\")\n",
    "plt.show()"
   ]
  },
  {
   "cell_type": "markdown",
   "id": "f3fe0c4e-f77c-41f2-974e-42b8cefbda2d",
   "metadata": {
    "jp-MarkdownHeadingCollapsed": true
   },
   "source": [
    "# Sampling"
   ]
  },
  {
   "cell_type": "code",
   "execution_count": null,
   "id": "3c0447e7-66e6-4a8d-81af-093317c82e44",
   "metadata": {},
   "outputs": [],
   "source": [
    "sample_percent = 10 \n",
    "\n",
    "sampled_participants = random.sample(list(set([id[0] for id in keep_ids])), int(participant_count3/sample_percent))\n",
    "sampled_ids = [id for id in keep_ids if id[0] in sampled_participants]\n",
    "# Filter raw data\n",
    "sampled_raw_data_df = filtered_raw_data_df3[(filtered_raw_data_df3[['CapstudiesID', 'PROAnswerSetID']].apply(tuple, axis=1).isin(sampled_ids))]\n",
    "\n",
    "# Filter alg output data\n",
    "sampled_ind_time_df = filtered_ind_time_df3[(filtered_ind_time_df3['Patient Identifier'].isin([f\"{id[0]}_{id[1]}.json\" for id in sampled_ids]))]\n",
    "\n",
    "sampled_participant_count = len(set(sampled_raw_data_df['CapstudiesID']))\n",
    "print(f\"{participant_count3} -> {sampled_participant_count} participants\")\n",
    "print(f\"{len(filtered_ind_time_df3)} -> {len(sampled_ind_time_df)} alerts\")"
   ]
  },
  {
   "cell_type": "markdown",
   "id": "1d5a9f57-8029-49ea-a6e5-a7d11107d587",
   "metadata": {
    "jp-MarkdownHeadingCollapsed": true
   },
   "source": [
    "# Breakdown After Sampling"
   ]
  },
  {
   "cell_type": "code",
   "execution_count": null,
   "id": "d5697a43-72bc-42d6-9a79-e10d888f339b",
   "metadata": {},
   "outputs": [],
   "source": [
    "# Look at the frequency for the different types of alerts (normal, abnormal, clinically urgent)\n",
    "labels = [\"Normal\", \"Abnormal\", \"Clinically Urgent Alert\"]\n",
    "alert_counts = sampled_ind_time_df['Final Alert State'].value_counts()\n",
    "values = [alert_counts[label] for label in labels]\n",
    "plt.pie(values, labels = [f\"{label} ({alert_counts[label]} alerts, {int(100*alert_counts[label]/sum(values))}%)\" for label in labels], colors=[\"green\",\"yellow\",\"red\"])\n",
    "plt.title(f\"After Sampling Alert Types ({sum(values)} Alerts Total)\")\n",
    "plt.show()"
   ]
  },
  {
   "cell_type": "code",
   "execution_count": null,
   "id": "0f115816-6395-442c-90af-1a855f654651",
   "metadata": {},
   "outputs": [],
   "source": [
    "participant_df = pd.read_excel(raw_data, sheet_name=\"Person\")\n",
    "participant_df = participant_df[(participant_df['CapstudiesID'].isin(set([id[0] for id in sampled_ids])))]\n",
    "\n",
    "age_counts = participant_df['AgeAtDx'].value_counts().to_dict()\n",
    "age_groups = {\"40-64\": 0, \"65-69\": 0, \"70+\": 0}\n",
    "for age in age_counts.keys():\n",
    "    if age < 65:\n",
    "        age_groups[\"40-64\"] += age_counts[age]\n",
    "    elif age < 70:\n",
    "        age_groups[\"65-69\"] += age_counts[age]\n",
    "    else:\n",
    "        age_groups[\"70+\"] += age_counts[age]\n",
    "labels = sorted(age_groups.keys())\n",
    "values = [age_groups[group] for group in labels]\n",
    "labels = [f\"Age {group} ({age_groups[group]} participants, {int(100*age_groups[group]/sum(values))}%)\" for group in labels]\n",
    "plt.pie(values)\n",
    "plt.legend(labels)\n",
    "plt.title(f\"After Sampling Age Breakdown ({sum(values)} Participants Total)\")\n",
    "plt.show()"
   ]
  },
  {
   "cell_type": "code",
   "execution_count": null,
   "id": "c3b089ef-1874-41ec-942a-cdb6c3281ac3",
   "metadata": {},
   "outputs": [],
   "source": [
    "participant_df = pd.read_excel(raw_data, sheet_name=\"Person\")\n",
    "participant_df = participant_df[(participant_df['CapstudiesID'].isin(set([id[0] for id in sampled_ids])))]\n",
    "\n",
    "therapy_counts = participant_df['iTreatment'].value_counts().to_dict()\n",
    "# # Not enough data for the following:\n",
    "# therapy_counts.pop(\"OTHER\")\n",
    "# therapy_counts.pop(\"EBRT - Palliative\")\n",
    "\n",
    "labels = list(therapy_counts.keys())\n",
    "values = [therapy_counts[label] for label in labels]\n",
    "labels = [f\"{tx} ({therapy_counts[tx]} participants, {int(100*therapy_counts[tx]/sum(values))}%)\" for tx in labels]\n",
    "plt.pie(values)\n",
    "plt.legend(labels)\n",
    "plt.title(f\"After Sampling Therapy Breakdown ({sum(values)} Participants Total)\")\n",
    "plt.show()"
   ]
  },
  {
   "cell_type": "markdown",
   "id": "2983c73f-ad8c-436d-bdd9-478f9401c4ba",
   "metadata": {},
   "source": [
    "# Output Sampled Dataset"
   ]
  },
  {
   "cell_type": "code",
   "execution_count": null,
   "id": "e8b3c905-97e1-4fe7-b951-6e962a8471c9",
   "metadata": {},
   "outputs": [],
   "source": [
    "with pd.ExcelWriter('../SampledSAPCRData.xlsx') as writer:\n",
    "    participant_df.to_excel(writer, sheet_name='Person')\n",
    "    sampled_raw_data_df.to_excel(writer, sheet_name='PROM-RulesBasedAlgorithmData_R2')"
   ]
  },
  {
   "cell_type": "code",
   "execution_count": null,
   "id": "8f860e45-5b14-4293-9856-f695195a30fc",
   "metadata": {},
   "outputs": [],
   "source": []
  }
 ],
 "metadata": {
  "kernelspec": {
   "display_name": "Python 3 (ipykernel)",
   "language": "python",
   "name": "python3"
  },
  "language_info": {
   "codemirror_mode": {
    "name": "ipython",
    "version": 3
   },
   "file_extension": ".py",
   "mimetype": "text/x-python",
   "name": "python",
   "nbconvert_exporter": "python",
   "pygments_lexer": "ipython3",
   "version": "3.11.4"
  }
 },
 "nbformat": 4,
 "nbformat_minor": 5
}
